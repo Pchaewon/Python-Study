{
 "cells": [
  {
   "cell_type": "markdown",
   "id": "803ac111",
   "metadata": {},
   "source": [
    "## 객체지향 프로그래밍 개요\n",
    "> Object-Oriented Programming, OOP <br>\n",
    "> 객체: 실생활에서 일종의 물건 <br>\n",
    "> 속성은 변수, 행동은 함수로 표현됨 <br>\n",
    "> OOP는 클래스(붕어빵틀)와 실제 구현체인 인스턴스(뿡어빵)로 나눔 <br>"
   ]
  },
  {
   "cell_type": "markdown",
   "id": "ed7a4230",
   "metadata": {},
   "source": [
    "#### Class 구현하기 in Python\n",
    "> 축구 선수 정보를 Class로 구현하기<br>\n",
    "> 변수/클래스/함수명은 snake_case와 CamelCase방식으로 짓는다.\n"
   ]
  },
  {
   "cell_type": "code",
   "execution_count": 1,
   "id": "b43b917d",
   "metadata": {},
   "outputs": [],
   "source": [
    "class SoccerPlayer(object):\n",
    "    def __init__(self, name, position, back_number):\n",
    "        self.name = name\n",
    "        self.position=position\n",
    "        self.back_number=back_number\n",
    "        \n",
    "    def change_back_number(self, new_number):\n",
    "        print(\"선수의 등번호를 변경합니다: From %d to %d\" % (self.back_number, new_number))\n",
    "        self.back_number = new_number"
   ]
  },
  {
   "cell_type": "markdown",
   "id": "cfdc56cd",
   "metadata": {},
   "source": [
    "#### Attribute 추가하기\n",
    "> Attribute추가는 __init__, self와 함께! <br>\n",
    "> __init__은 객체 초기화 예약 함수 <br>\n",
    "> __는 특수한 예약 함수나 변수 그리고 함수명 변경(맨글링)으로 사용<br>\n"
   ]
  },
  {
   "cell_type": "code",
   "execution_count": 2,
   "id": "5979ee9e",
   "metadata": {},
   "outputs": [
    {
     "name": "stdout",
     "output_type": "stream",
     "text": [
      "<__main__.SoccerPlayer object at 0x000001A0DE4CE188>\n"
     ]
    }
   ],
   "source": [
    "    def __str__(self):\n",
    "        return \"Hello, My name is %s. I play in %s in center\" % (self.name, self.position)\n",
    "\n",
    "jihyun=SoccerPlayer(\"Jihyun\", \"MF\", 10) #object 이름 선언과 함께 초기값 입력하기\n",
    "##print(jihyun.back_number)\n",
    "print(jihyun)\n",
    "\n",
    "\n",
    "#jihyun.change_back_number(5)\n",
    "#print(jihyun.back_number)"
   ]
  },
  {
   "cell_type": "markdown",
   "id": "2c3a3f1a",
   "metadata": {},
   "source": [
    "#### 구현 가능한 OOP 만들기 - 노트북"
   ]
  },
  {
   "cell_type": "code",
   "execution_count": 17,
   "id": "f61b160c",
   "metadata": {},
   "outputs": [],
   "source": [
    "# Note Class\n",
    "class Note(object):\n",
    "    def __init__(self, content=None):\n",
    "        self.content = content\n",
    "    \n",
    "    def write_content(self, content):\n",
    "        self.content = content\n",
    "    \n",
    "    def remove_all(self):\n",
    "        self.content = \"\"\n",
    "        \n",
    "    def __add__(self):\n",
    "        return self.content\n",
    "    "
   ]
  },
  {
   "cell_type": "code",
   "execution_count": 18,
   "id": "ca556bef",
   "metadata": {},
   "outputs": [],
   "source": [
    "#NoteBook class\n",
    "class NoteBook(object):\n",
    "    def __init__(self, title):\n",
    "        self.title = title\n",
    "        self.page_number = 1\n",
    "        self.notes = {}\n",
    "        \n",
    "    def add_note(self, note, page =0):\n",
    "        if self.page_number < 300:\n",
    "            if page == 0:\n",
    "                self.notes[self.page_number]=note\n",
    "                seld.page_number +=1\n",
    "            else:\n",
    "                self.notes={page : note}\n",
    "                self.page_number += 1\n",
    "        else:\n",
    "            print(\"Page가 모두 채워졌습니다.\")\n",
    "            \n",
    "    def remove_note(self, page_number):\n",
    "        if page_number in self.notes.key():\n",
    "            return self.notes.pop(page_number)\n",
    "        else:\n",
    "            print(\"해강 페이지는 존재하지 않습니다\")\n",
    "            \n",
    "    def get_number_of_pages(self):\n",
    "        return len(self.notes.keys())\n",
    "    "
   ]
  },
  {
   "cell_type": "markdown",
   "id": "b4aaf7a4",
   "metadata": {},
   "source": [
    "##### 객체 지향 언어의 특징 : 실제 세상을 모델링\n",
    "> 필요한 것들 <br>\n",
    "> 1. Inheritance 상속 <br>\n",
    "> 부모 클래스로부터 속성과 method를 물려받은 자식 클래스를 생서하는 것"
   ]
  },
  {
   "cell_type": "code",
   "execution_count": 3,
   "id": "88835f2d",
   "metadata": {},
   "outputs": [
    {
     "name": "stdout",
     "output_type": "stream",
     "text": [
      "Chaewon\n"
     ]
    }
   ],
   "source": [
    "class person(object):\n",
    "    def __init__(self, name, age):\n",
    "        self.name = name\n",
    "        self.age = age\n",
    "class korean(person):\n",
    "    pass\n",
    "\n",
    "first_korean = person(\"Chaewon\", 24)\n",
    "print(first_korean.name)"
   ]
  },
  {
   "cell_type": "code",
   "execution_count": 6,
   "id": "f1717366",
   "metadata": {},
   "outputs": [
    {
     "name": "stdout",
     "output_type": "stream",
     "text": [
      "ChaeChae\n"
     ]
    }
   ],
   "source": [
    "second_korean = korean(\"ChaeChae\", 24)\n",
    "print(second_korean.name)"
   ]
  },
  {
   "cell_type": "code",
   "execution_count": 9,
   "id": "ea617f7c",
   "metadata": {},
   "outputs": [
    {
     "name": "stdout",
     "output_type": "stream",
     "text": [
      "My name is  Chaewon , My age is  24 and My gender is girl\n",
      "None\n"
     ]
    }
   ],
   "source": [
    "#부모 class 선언\n",
    "class Person(object):\n",
    "    def __init__(self, name, age, gender):\n",
    "        self.name = name\n",
    "        self.age = age\n",
    "        self.gender =gender\n",
    "    def about_me(self): # method 선언\n",
    "        print(\"My name is \", self.name, \", My age is \", self.age, \"and My gender is\", self.gender)\n",
    "\n",
    "first_girl = Person(\"Chaewon\", 24, \"girl\")\n",
    "print(first_girl.about_me())"
   ]
  },
  {
   "cell_type": "code",
   "execution_count": 11,
   "id": "5dd599e9",
   "metadata": {},
   "outputs": [
    {
     "name": "stdout",
     "output_type": "stream",
     "text": [
      "My name is  chaewon , My age is  24 and My gender is girl\n",
      "My salary is  1000000000 My hiring date is  12월 15일\n",
      "None\n"
     ]
    }
   ],
   "source": [
    "class Employee(Person): # 부모 클래스 Person으로 부터 상속\n",
    "    def __init__(self, name, age, gender, salary, hire_date):\n",
    "        super().__init__(name, age, gender) # 부모 객체 사용\n",
    "        self.salary = salary\n",
    "        self.hire_date = hire_date # 속성값 추가\n",
    "        \n",
    "    def do_work(self): # 새로운 메서드 추가\n",
    "        print(\"열심히 하자\")\n",
    "    \n",
    "    def about_me(self): # 부모 클래스 함수 재정의\n",
    "        super().about_me() # 부모 클래스 함수 사용\n",
    "        print(\"My salary is \", self.salary, \"My hiring date is \", self.hire_date)\n",
    "\n",
    "SalaryMan = Employee(\"chaewon\", 24, \"girl\", 1000000000, \"12월 15일\")\n",
    "print(SalaryMan.about_me())\n"
   ]
  },
  {
   "cell_type": "markdown",
   "id": "a802b0fc",
   "metadata": {},
   "source": [
    "> 2. Polymorphism 다형성 <br>\n",
    ">    같은 이름 메소드의 내부 로직을 다르게 작성 <br>\n",
    ">    Dynamic Typing 특성으로 인해 파이썬에서는 같은 부모 클래스의 상속에서 주로 발생 <br>\n"
   ]
  },
  {
   "cell_type": "code",
   "execution_count": 12,
   "id": "36b803d1",
   "metadata": {},
   "outputs": [
    {
     "name": "stdout",
     "output_type": "stream",
     "text": [
      "Missy: Meow!\n",
      "Mr. Mistoffelees: Meow!\n",
      "Lassie: Woof! Woof!\n"
     ]
    }
   ],
   "source": [
    "class Animal(object):\n",
    "    def __init__(self, name):\n",
    "        self.name = name\n",
    "    \n",
    "    def talk(self):\n",
    "        raise NotImplementedError(\"Subclass must implement abstract method\")\n",
    "\n",
    "class Cat(Animal):\n",
    "    def talk(self):\n",
    "        return \"Meow!\"\n",
    "\n",
    "class Dog(Animal):\n",
    "    def talk(self):\n",
    "        return \"Woof! Woof!\"\n",
    "    \n",
    "animals =[Cat(\"Missy\"),\n",
    "         Cat(\"Mr. Mistoffelees\"),\n",
    "         Dog(\"Lassie\")]\n",
    "\n",
    "for animal in animals:\n",
    "    print(animal.name + ': ' +animal.talk())\n",
    "    \n"
   ]
  },
  {
   "cell_type": "markdown",
   "id": "c5127b3d",
   "metadata": {},
   "source": [
    "> 3. visibility 가시성 <br>\n",
    ">    객체의 정보를 볼 수 있는 레벨을 조잘하는 것 <br>\n",
    ">    누구나 객체 안에 모든 변수를 볼 필요가 없음 <br>\n",
    "> 1) 객체를 사용하는 사용자가 임의로 정보 수정 <br>\n",
    "> 2) 필요 없는 정보에는 접근 할 필요가 없음 <br>\n",
    "> 3) 소스의 보호"
   ]
  },
  {
   "cell_type": "markdown",
   "id": "f7435869",
   "metadata": {},
   "source": [
    "> (상식) Encapsulation <br>\n",
    ">        캡슐화 또는 정보 은닉 (Information Hiding) <br>\n",
    ">        class를 설계할 때, 클래스 간 간섭/ 정보 공유의 최소화 <br>\n",
    ">        심판 클래스가 축구 선수 클래스 가족 정보를 알아야 하나? <br>\n",
    ">        캡슐을 던지듯, 인터페이스만 알아서 써야함 <br>"
   ]
  },
  {
   "cell_type": "markdown",
   "id": "44e30370",
   "metadata": {},
   "source": [
    "###### Visibility Example 1\n",
    "> Prodect 객체를 Inventory 객체에 추가<br>\n",
    "> Inevntory에는 오직 Product 객체만 들어감<br>\n",
    "> Inventory에 Product가 몇 개인지 확인이 필요<br>\n",
    "> Inventory에 Product items는 직접 접근이 불가\n"
   ]
  },
  {
   "cell_type": "code",
   "execution_count": 6,
   "id": "2f2c5a55",
   "metadata": {},
   "outputs": [],
   "source": [
    "# visibility example\n",
    "\n",
    "class Product(object):\n",
    "    pass\n",
    "\n",
    "class Inventory(object):\n",
    "    def __init__(self):\n",
    "        self.__items = [] # private 변수로 선언 타객체가 접근 못함\n",
    "    \n",
    "    def add_new_item(self, product):\n",
    "        print(type(product))\n",
    "        print(Product)\n",
    "        if type(product) == Product:\n",
    "            self.__items.append(product)\n",
    "            print(\"new item added\")\n",
    "        else:\n",
    "            raise ValueError(\"Invalid Item\")\n",
    "            \n",
    "    def get_number_of_items(self):\n",
    "        return len(self.__items)"
   ]
  },
  {
   "cell_type": "code",
   "execution_count": 7,
   "id": "2a07db8a",
   "metadata": {},
   "outputs": [
    {
     "name": "stdout",
     "output_type": "stream",
     "text": [
      "<class '__main__.Product'>\n",
      "<class '__main__.Product'>\n",
      "new item added\n",
      "<class '__main__.Product'>\n",
      "<class '__main__.Product'>\n",
      "new item added\n",
      "2\n"
     ]
    },
    {
     "ename": "AttributeError",
     "evalue": "'Inventory' object has no attribute '__items'",
     "output_type": "error",
     "traceback": [
      "\u001b[1;31m---------------------------------------------------------------------------\u001b[0m",
      "\u001b[1;31mAttributeError\u001b[0m                            Traceback (most recent call last)",
      "\u001b[1;32m~\\AppData\\Local\\Temp/ipykernel_10012/2268314557.py\u001b[0m in \u001b[0;36m<module>\u001b[1;34m\u001b[0m\n\u001b[0;32m      4\u001b[0m \u001b[0mprint\u001b[0m\u001b[1;33m(\u001b[0m\u001b[0mmy_inventory\u001b[0m\u001b[1;33m.\u001b[0m\u001b[0mget_number_of_items\u001b[0m\u001b[1;33m(\u001b[0m\u001b[1;33m)\u001b[0m\u001b[1;33m)\u001b[0m\u001b[1;33m\u001b[0m\u001b[1;33m\u001b[0m\u001b[0m\n\u001b[0;32m      5\u001b[0m \u001b[1;33m\u001b[0m\u001b[0m\n\u001b[1;32m----> 6\u001b[1;33m \u001b[0mprint\u001b[0m\u001b[1;33m(\u001b[0m\u001b[0mmy_inventory\u001b[0m\u001b[1;33m.\u001b[0m\u001b[0m__items\u001b[0m\u001b[1;33m)\u001b[0m\u001b[1;33m\u001b[0m\u001b[1;33m\u001b[0m\u001b[0m\n\u001b[0m\u001b[0;32m      7\u001b[0m \u001b[0mmy_inventory\u001b[0m\u001b[1;33m.\u001b[0m\u001b[0madd_new_item\u001b[0m\u001b[1;33m(\u001b[0m\u001b[0mobject\u001b[0m\u001b[1;33m)\u001b[0m\u001b[1;33m\u001b[0m\u001b[1;33m\u001b[0m\u001b[0m\n",
      "\u001b[1;31mAttributeError\u001b[0m: 'Inventory' object has no attribute '__items'"
     ]
    }
   ],
   "source": [
    "my_inventory = Inventory()\n",
    "my_inventory.add_new_item(Product())\n",
    "my_inventory.add_new_item(Product())\n",
    "print(my_inventory.get_number_of_items())\n",
    "\n",
    "\n",
    "\n",
    "## inventory에 product itens 는 직접 접근이 불가\n",
    "## 여기에서 에러 뜨는 건 정상!\n",
    "print(my_inventory.__items)\n",
    "my_inventory.add_new_item(object)"
   ]
  },
  {
   "cell_type": "markdown",
   "id": "52f0b9b7",
   "metadata": {},
   "source": [
    "###### Visibility Example 2\n",
    "> Prodect 객체를 Inventory 객체에 추가<br>\n",
    "> Inevntory에는 오직 Product 객체만 들어감<br>\n",
    "> Inventory에 Product가 몇 개인지 확인이 필요<br>\n",
    "> Inventory에 Product items 접근 허용\n"
   ]
  },
  {
   "cell_type": "code",
   "execution_count": 9,
   "id": "b4c35924",
   "metadata": {},
   "outputs": [],
   "source": [
    "# visibility example\n",
    "\n",
    "class Product(object):\n",
    "    pass\n",
    "\n",
    "class Inventory(object):\n",
    "    def __init__(self):\n",
    "        self.__items = [] # private 변수로 선언 타객체가 접근 못함\n",
    "    \n",
    "    @property # property decorator 숨겨진 변수를 반환하게 해줌\n",
    "    def items(self):\n",
    "        return self.__items\n",
    "    \n",
    "    def add_new_item(self, product):\n",
    "        print(type(product))\n",
    "        print(Product)\n",
    "        if type(product) == Product:\n",
    "            self.__items.append(product)\n",
    "            print(\"new item added\")\n",
    "        else:\n",
    "            raise ValueError(\"Invalid Item\")\n",
    "            \n",
    "    def get_number_of_items(self):\n",
    "        return len(self.__items)"
   ]
  },
  {
   "cell_type": "code",
   "execution_count": 10,
   "id": "e9a16347",
   "metadata": {},
   "outputs": [
    {
     "name": "stdout",
     "output_type": "stream",
     "text": [
      "<class '__main__.Product'>\n",
      "<class '__main__.Product'>\n",
      "new item added\n",
      "<class '__main__.Product'>\n",
      "<class '__main__.Product'>\n",
      "new item added\n",
      "2\n",
      "3\n"
     ]
    }
   ],
   "source": [
    "my_inventory = Inventory()\n",
    "my_inventory.add_new_item(Product())\n",
    "my_inventory.add_new_item(Product())\n",
    "print(my_inventory.get_number_of_items())\n",
    "\n",
    "items = my_inventory.items # property decorator로 함수를 변수처럼 호출\n",
    "items.append(Product())\n",
    "print(my_inventory.get_number_of_items())"
   ]
  },
  {
   "cell_type": "markdown",
   "id": "24aa8b35",
   "metadata": {},
   "source": [
    "##### decorate\n"
   ]
  },
  {
   "cell_type": "code",
   "execution_count": 11,
   "id": "2587ad8d",
   "metadata": {},
   "outputs": [],
   "source": [
    "class Student:\n",
    "    def __init__(self, name, marks):\n",
    "        self.name = name\n",
    "        self.marks = marks\n",
    "        # self.gotmarks = self.name + 'obtained' + self.marks + 'marks'\n",
    "        \n",
    "        @property\n",
    "        def gotmarks(self):\n",
    "            return self.name+'obtained'+self.marks+'marks'"
   ]
  },
  {
   "cell_type": "markdown",
   "id": "fb4d13d2",
   "metadata": {},
   "source": [
    "##### 이해하기 위한 개념들\n",
    "> firs-class objects inner function decorator <br>\n",
    "> 1) 일등함수 또는 일급 객체 <br>\n",
    "> 2) 변수나 데이터 구조에 할당이 가능한 객체<br>\n",
    "> 3) 파라메터로 전달이 가능 + 리턴 값으로 사용<br>\n",
    "\n",
    "\n",
    "##### 파이썬의 함수는 일급함수"
   ]
  },
  {
   "cell_type": "code",
   "execution_count": 12,
   "id": "acfcf93e",
   "metadata": {},
   "outputs": [
    {
     "data": {
      "text/plain": [
       "25"
      ]
     },
     "execution_count": 12,
     "metadata": {},
     "output_type": "execute_result"
    }
   ],
   "source": [
    "def square(x):\n",
    "    return x*x\n",
    "\n",
    "#함수를 변수로 사용\n",
    "f=square\n",
    "f(5)"
   ]
  },
  {
   "cell_type": "code",
   "execution_count": 21,
   "id": "b200e2c8",
   "metadata": {},
   "outputs": [
    {
     "name": "stdout",
     "output_type": "stream",
     "text": [
      "Hello, Python\n"
     ]
    }
   ],
   "source": [
    "def square(x):\n",
    "    return x*x\n",
    "\n",
    "def cube(x):\n",
    "    return x*x*x\n",
    "\n",
    "#함수를 파라미터로 사용\n",
    "def formula(method, argument_list):\n",
    "    return [method(value) for value in arguument_list]\n",
    "\n",
    "#함수 내에 또 다른 함수가 존재\n",
    "def print_msg(msg):\n",
    "    def printer():\n",
    "        print(msg)\n",
    "    printer()\n",
    "    \n",
    "print_msg(\"Hello, Python\")\n"
   ]
  },
  {
   "cell_type": "code",
   "execution_count": 23,
   "id": "81582272",
   "metadata": {},
   "outputs": [
    {
     "name": "stdout",
     "output_type": "stream",
     "text": [
      "Hello, Python\n"
     ]
    }
   ],
   "source": [
    "#closures : inner function을 return 값으로 반환\n",
    "def print_msg(msg):\n",
    "    def printer():\n",
    "        print(msg)\n",
    "    return printer\n",
    "\n",
    "another = print_msg(\"Hello, Python\")\n",
    "another()"
   ]
  },
  {
   "cell_type": "code",
   "execution_count": 24,
   "id": "7f67a21c",
   "metadata": {},
   "outputs": [],
   "source": [
    "def tag_func(tag, text):\n",
    "    text = text\n",
    "    tag=tag\n",
    "    \n",
    "    def inner_func():\n",
    "        return '<{0}>{1}<{0}>'.format(tag, text)\n",
    "    \n",
    "    return inner_func\n",
    "\n",
    "h1_func = tag_func('title', \"This is Python Class\")\n",
    "p_func = tag_func('p', \"Data Academy\")\n",
    "    "
   ]
  },
  {
   "cell_type": "code",
   "execution_count": 28,
   "id": "0c59d211",
   "metadata": {},
   "outputs": [
    {
     "name": "stdout",
     "output_type": "stream",
     "text": [
      "******************************\n",
      "%%%%%%%%%%%%%%%%%%%%%%%%%%%%%%\n",
      "Hello\n",
      "%%%%%%%%%%%%%%%%%%%%%%%%%%%%%%\n",
      "******************************\n"
     ]
    }
   ],
   "source": [
    "#복잡한 클로져 함수를 간단하게!\n",
    "def star(func):\n",
    "    def inner(*args, **kwargs):\n",
    "        print(\"*\"*30)\n",
    "        func(*args, **kwargs)\n",
    "        print(\"*\"*30)\n",
    "    return inner\n",
    "\n",
    "def percent(func):\n",
    "    def inner(*args, **kwargs):\n",
    "        print(\"%\"*30)\n",
    "        func(*args, **kwargs)\n",
    "        print(\"%\"*30)\n",
    "    return inner\n",
    "\n",
    "\n",
    "@star\n",
    "@percent\n",
    "def printer(msg):\n",
    "    print(msg)\n",
    "printer(\"Hello\")"
   ]
  },
  {
   "cell_type": "code",
   "execution_count": 29,
   "id": "3f8be1fc",
   "metadata": {},
   "outputs": [
    {
     "name": "stdout",
     "output_type": "stream",
     "text": [
      "562949953421312\n"
     ]
    }
   ],
   "source": [
    "def generate_power(exponent):\n",
    "    def wrapper(f):\n",
    "        def inner(*args):\n",
    "            result = f(*args)\n",
    "            return exponent**result\n",
    "        return inner\n",
    "    return wrapper\n",
    "\n",
    "@generate_power(2)\n",
    "def raise_two(n):\n",
    "    return n**2\n",
    "\n",
    "print(raise_two(7))"
   ]
  }
 ],
 "metadata": {
  "kernelspec": {
   "display_name": "Python 3 (ipykernel)",
   "language": "python",
   "name": "python3"
  },
  "language_info": {
   "codemirror_mode": {
    "name": "ipython",
    "version": 3
   },
   "file_extension": ".py",
   "mimetype": "text/x-python",
   "name": "python",
   "nbconvert_exporter": "python",
   "pygments_lexer": "ipython3",
   "version": "3.7.11"
  }
 },
 "nbformat": 4,
 "nbformat_minor": 5
}
